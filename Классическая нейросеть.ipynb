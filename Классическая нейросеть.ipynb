{
  "nbformat": 4,
  "nbformat_minor": 0,
  "metadata": {
    "colab": {
      "name": "Копия блокнота \"1. FCNN_01_mnist.ipynb\"",
      "provenance": [],
      "collapsed_sections": [
        "F7pZ8XqdJOC9",
        "YCOpbc2hJ41F"
      ]
    },
    "kernelspec": {
      "name": "python3",
      "display_name": "Python 3"
    }
  },
  "cells": [
    {
      "cell_type": "markdown",
      "metadata": {
        "id": "Ah7dy1kFL2H9"
      },
      "source": [
        "# Распознавание рукописных цифр из набора данных MNIST с помощью Keras"
      ]
    },
    {
      "cell_type": "markdown",
      "metadata": {
        "id": "mqVU7Yd6d08H"
      },
      "source": [
        "## Импорт библиотек"
      ]
    },
    {
      "cell_type": "code",
      "metadata": {
        "id": "qrfd6FzSLrE2"
      },
      "source": [
        "from tensorflow.keras.datasets import mnist\n",
        "from tensorflow.keras.models import Sequential\n",
        "from tensorflow.keras.layers import Dense\n",
        "from tensorflow.keras import utils\n",
        "from tensorflow.keras.preprocessing import image\n",
        "from google.colab import files\n",
        "import numpy as np\n",
        "import matplotlib.pyplot as plt\n",
        "from PIL import Image\n",
        "%matplotlib inline "
      ],
      "execution_count": null,
      "outputs": []
    },
    {
      "cell_type": "markdown",
      "metadata": {
        "id": "xiurjCBVMDTG"
      },
      "source": [
        "## Подготовка данных для обучения сети"
      ]
    },
    {
      "cell_type": "markdown",
      "metadata": {
        "id": "1yDF75Cx8VPz"
      },
      "source": [
        "**Загружаем набор данных с рукописными цифрами**"
      ]
    },
    {
      "cell_type": "code",
      "metadata": {
        "id": "E5L3LUIi8PDV",
        "colab": {
          "base_uri": "https://localhost:8080/"
        },
        "outputId": "4eda876d-fc18-4d0e-cfa2-97082b690a2a"
      },
      "source": [
        "# В Keras встроены средства работы с популярными наборами данных\n",
        "(x_train_org, y_train_org), (x_test_org, y_test_org) = mnist.load_data()"
      ],
      "execution_count": null,
      "outputs": [
        {
          "output_type": "stream",
          "name": "stdout",
          "text": [
            "Downloading data from https://storage.googleapis.com/tensorflow/tf-keras-datasets/mnist.npz\n",
            "11493376/11490434 [==============================] - 0s 0us/step\n",
            "11501568/11490434 [==============================] - 0s 0us/step\n"
          ]
        }
      ]
    },
    {
      "cell_type": "markdown",
      "metadata": {
        "id": "MxIlyYekI1a6"
      },
      "source": [
        "**Проверка**"
      ]
    },
    {
      "cell_type": "code",
      "metadata": {
        "colab": {
          "base_uri": "https://localhost:8080/",
          "height": 282
        },
        "id": "Ry2rYoBuJjHJ",
        "outputId": "0cc1ab31-7f02-4050-ae92-efcd0b3809f1"
      },
      "source": [
        "n = 25\n",
        "plt.imshow(x_train_org[n, :, :])\n",
        "print(\"Правильный ответ: \", y_train_org[n])\n",
        "plt.show()\n"
      ],
      "execution_count": null,
      "outputs": [
        {
          "output_type": "stream",
          "name": "stdout",
          "text": [
            "Правильный ответ:  2\n"
          ]
        },
        {
          "output_type": "display_data",
          "data": {
            "image/png": "[encoded data removed]",
            "text/plain": [
              "<Figure size 432x288 with 1 Axes>"
            ]
          },
          "metadata": {
            "needs_background": "light"
          }
        }
      ]
    },
    {
      "cell_type": "markdown",
      "metadata": {
        "id": "YbkJ2X-OGfm1"
      },
      "source": [
        "**Проверка размерности загруженных данных**  "
      ]
    },
    {
      "cell_type": "code",
      "metadata": {
        "colab": {
          "base_uri": "https://localhost:8080/"
        },
        "id": "3-nrtXc0Ahvk",
        "outputId": "cd9506d3-222d-4b4a-eff2-8aa09af6e06c"
      },
      "source": [
        "print(\"Тренировочные данные:\", x_train_org.shape)\n",
        "print(\"Тренировочные метки:\", y_train_org.shape)\n",
        "print(\"Тестовые данные:\", x_test_org.shape)\n",
        "print(\"Тестовые метки:\", y_test_org.shape)"
      ],
      "execution_count": null,
      "outputs": [
        {
          "output_type": "stream",
          "name": "stdout",
          "text": [
            "Тренировочные данные: (60000, 28, 28)\n",
            "Тренировочные метки: (60000,)\n",
            "Тестовые данные: (10000, 28, 28)\n",
            "Тестовые метки: (10000,)\n"
          ]
        }
      ]
    },
    {
      "cell_type": "markdown",
      "metadata": {
        "id": "7uXTnIojJLbl"
      },
      "source": [
        "**Преобразование размерности данных в наборе**  "
      ]
    },
    {
      "cell_type": "code",
      "metadata": {
        "id": "GBAqLKjGJJ-V"
      },
      "source": [
        "x_train = x_train_org.reshape(60000, 784)\n",
        "x_test = x_test_org.reshape(10000, 784)"
      ],
      "execution_count": null,
      "outputs": []
    },
    {
      "cell_type": "markdown",
      "metadata": {
        "id": "hDaHO5LgJYxU"
      },
      "source": [
        "**Нормализация данных**  "
      ]
    },
    {
      "cell_type": "code",
      "metadata": {
        "id": "rscaAuBNJdq9"
      },
      "source": [
        "# Так как мы имеем дело с вектором, то операция будет применена к каждом элементу\n",
        "# этого вектора\n",
        "x_train = x_train.astype('float32')\n",
        "x_train = x_train / 255"
      ],
      "execution_count": null,
      "outputs": []
    },
    {
      "cell_type": "markdown",
      "metadata": {
        "id": "KRcMlNzqJk1t"
      },
      "source": [
        "**Работа с правильными ответами**"
      ]
    },
    {
      "cell_type": "code",
      "metadata": {
        "id": "A5lKe_syJqPu",
        "colab": {
          "base_uri": "https://localhost:8080/"
        },
        "outputId": "0fac73cc-192c-4cb1-c8ed-f519c9ca01c7"
      },
      "source": [
        "print(y_train_org[n])"
      ],
      "execution_count": null,
      "outputs": [
        {
          "output_type": "stream",
          "name": "stdout",
          "text": [
            "2\n"
          ]
        }
      ]
    },
    {
      "cell_type": "markdown",
      "metadata": {
        "id": "zqJ9GA1kJxBF"
      },
      "source": [
        "**Преобразуем метки в формат one hot encoding**  "
      ]
    },
    {
      "cell_type": "code",
      "metadata": {
        "id": "zQnasUyyJ3cG"
      },
      "source": [
        "y_train = utils.to_categorical(y_train_org, 10)\n",
        "y_test = utils.to_categorical(y_test_org, 10)"
      ],
      "execution_count": null,
      "outputs": []
    },
    {
      "cell_type": "markdown",
      "metadata": {
        "id": "KfuqlyjHJ_ye"
      },
      "source": [
        "**Правильный ответ в формате one hot encoding**"
      ]
    },
    {
      "cell_type": "code",
      "metadata": {
        "id": "9zUfd1aeKH3e",
        "colab": {
          "base_uri": "https://localhost:8080/"
        },
        "outputId": "58db497c-b950-49cf-9e04-a685b1f9f930"
      },
      "source": [
        "print(y_train[n])\n",
        "print(y_test[n])"
      ],
      "execution_count": null,
      "outputs": [
        {
          "output_type": "stream",
          "name": "stdout",
          "text": [
            "[0. 0. 1. 0. 0. 0. 0. 0. 0. 0.]\n",
            "[1. 0. 0. 0. 0. 0. 0. 0. 0. 0.]\n"
          ]
        }
      ]
    },
    {
      "cell_type": "markdown",
      "metadata": {
        "id": "BmTr_lXTKNbN"
      },
      "source": [
        "## Создаем нейронную сеть"
      ]
    },
    {
      "cell_type": "markdown",
      "metadata": {
        "id": "fV_igNZuMNXe"
      },
      "source": [
        "**Создаем последовательную модель**"
      ]
    },
    {
      "cell_type": "code",
      "metadata": {
        "id": "D-jPYYxIKQkt"
      },
      "source": [
        "model = Sequential()"
      ],
      "execution_count": null,
      "outputs": []
    },
    {
      "cell_type": "markdown",
      "metadata": {
        "id": "Q3QzIVtBMQRG"
      },
      "source": [
        "**Добавляем уровни сети**\n",
        "\n",
        "Архитектуру сети взяли по ссылке - https://en.wikipedia.org/wiki/MNIST_database\n"
      ]
    },
    {
      "cell_type": "code",
      "metadata": {
        "id": "kYVSvpNIMSnG"
      },
      "source": [
        "# Входной полносвязный слой, 800 нейронов, 784 входа в каждый нейрон\n",
        "model.add(Dense(800, input_dim=784, activation=\"relu\"))\n",
        "# Выходной полносвязный слой, 10 нейронов (по количеству рукописных цифр)\n",
        "model.add(Dense(10, activation=\"softmax\"))"
      ],
      "execution_count": null,
      "outputs": []
    },
    {
      "cell_type": "markdown",
      "metadata": {
        "id": "G__m76T-KWhd"
      },
      "source": [
        "**Компилируем сеть**"
      ]
    },
    {
      "cell_type": "code",
      "metadata": {
        "id": "PTcbSxchKZjd"
      },
      "source": [
        "model.compile(loss=\"categorical_crossentropy\", optimizer=\"adam\", metrics=[\"accuracy\"])"
      ],
      "execution_count": null,
      "outputs": []
    },
    {
      "cell_type": "code",
      "metadata": {
        "colab": {
          "base_uri": "https://localhost:8080/"
        },
        "id": "0pfwTXBsOPyF",
        "outputId": "2f8ee7b1-db8f-48d1-b2de-72593ffab650"
      },
      "source": [
        "print(model.summary())"
      ],
      "execution_count": null,
      "outputs": [
        {
          "output_type": "stream",
          "name": "stdout",
          "text": [
            "Model: \"sequential\"\n",
            "_________________________________________________________________\n",
            " Layer (type)                Output Shape              Param #   \n",
            "=================================================================\n",
            " dense (Dense)               (None, 800)               628000    \n",
            "                                                                 \n",
            " dense_1 (Dense)             (None, 10)                8010      \n",
            "                                                                 \n",
            "=================================================================\n",
            "Total params: 636,010\n",
            "Trainable params: 636,010\n",
            "Non-trainable params: 0\n",
            "_________________________________________________________________\n",
            "None\n"
          ]
        }
      ]
    },
    {
      "cell_type": "code",
      "metadata": {
        "id": "H6EIXu1dKoju",
        "colab": {
          "base_uri": "https://localhost:8080/"
        },
        "outputId": "229102a3-0df5-47f0-d721-3407122a6b38"
      },
      "source": [
        "history= model.fit(x_train, y_train, batch_size=200, epochs=15,  verbose=1)"
      ],
      "execution_count": null,
      "outputs": [
        {
          "output_type": "stream",
          "name": "stdout",
          "text": [
            "Epoch 1/15\n",
            "300/300 [==============================] - 5s 16ms/step - loss: 0.2740 - accuracy: 0.9229\n",
            "Epoch 2/15\n",
            "300/300 [==============================] - 5s 16ms/step - loss: 0.1094 - accuracy: 0.9684\n",
            "Epoch 3/15\n",
            "300/300 [==============================] - 5s 16ms/step - loss: 0.0726 - accuracy: 0.9785\n",
            "Epoch 4/15\n",
            "300/300 [==============================] - 5s 16ms/step - loss: 0.0515 - accuracy: 0.9847\n",
            "Epoch 5/15\n",
            "300/300 [==============================] - 5s 16ms/step - loss: 0.0355 - accuracy: 0.9901\n",
            "Epoch 6/15\n",
            "300/300 [==============================] - 5s 16ms/step - loss: 0.0263 - accuracy: 0.9930\n",
            "Epoch 7/15\n",
            "300/300 [==============================] - 5s 16ms/step - loss: 0.0198 - accuracy: 0.9953\n",
            "Epoch 8/15\n",
            "300/300 [==============================] - 5s 16ms/step - loss: 0.0147 - accuracy: 0.9966\n",
            "Epoch 9/15\n",
            "300/300 [==============================] - 5s 16ms/step - loss: 0.0114 - accuracy: 0.9975\n",
            "Epoch 10/15\n",
            "300/300 [==============================] - 5s 16ms/step - loss: 0.0088 - accuracy: 0.9984\n",
            "Epoch 11/15\n",
            "300/300 [==============================] - 5s 16ms/step - loss: 0.0094 - accuracy: 0.9975\n",
            "Epoch 12/15\n",
            "300/300 [==============================] - 5s 16ms/step - loss: 0.0051 - accuracy: 0.9993\n",
            "Epoch 13/15\n",
            "300/300 [==============================] - 5s 16ms/step - loss: 0.0028 - accuracy: 0.9997\n",
            "Epoch 14/15\n",
            "300/300 [==============================] - 5s 16ms/step - loss: 0.0023 - accuracy: 0.9998\n",
            "Epoch 15/15\n",
            "300/300 [==============================] - 5s 16ms/step - loss: 0.0020 - accuracy: 0.9998\n"
          ]
        }
      ]
    },
    {
      "cell_type": "markdown",
      "metadata": {
        "id": "7xtZMORtSp98"
      },
      "source": [
        "**Проверка ИНС на контрольном наборе**  "
      ]
    },
    {
      "cell_type": "code",
      "metadata": {
        "colab": {
          "base_uri": "https://localhost:8080/"
        },
        "id": "U1y_y1axS52a",
        "outputId": "d9c12ff0-03d4-4032-caf2-8effcb3433d0"
      },
      "source": [
        "test_loss, test_acc = model.evaluate(x_test, y_test)\n",
        "print('test_acc:', test_acc)"
      ],
      "execution_count": null,
      "outputs": [
        {
          "output_type": "stream",
          "name": "stdout",
          "text": [
            "313/313 [==============================] - 1s 3ms/step - loss: 15.0930 - accuracy: 0.9807\n",
            "test_acc: 0.9807000160217285\n"
          ]
        }
      ]
    },
    {
      "cell_type": "markdown",
      "metadata": {
        "id": "sslIOaFLWjxS"
      },
      "source": [
        "## Обучение на трех наборах  "
      ]
    },
    {
      "cell_type": "code",
      "metadata": {
        "id": "YrxRAxQFzbj9",
        "colab": {
          "base_uri": "https://localhost:8080/"
        },
        "outputId": "afe74470-b6d3-4590-d62c-42b7c536ab0c"
      },
      "source": [
        "history = model.fit(x_train, \n",
        "                    y_train, \n",
        "                    batch_size=200, \n",
        "                    epochs=30,\n",
        "                    validation_split=0.2,\n",
        "                    verbose=1)"
      ],
      "execution_count": null,
      "outputs": [
        {
          "output_type": "stream",
          "name": "stdout",
          "text": [
            "Epoch 1/30\n",
            "240/240 [==============================] - 4s 19ms/step - loss: 0.0060 - accuracy: 0.9984 - val_loss: 0.0096 - val_accuracy: 0.9973\n",
            "Epoch 2/30\n",
            "240/240 [==============================] - 4s 18ms/step - loss: 0.0142 - accuracy: 0.9954 - val_loss: 0.0115 - val_accuracy: 0.9958\n",
            "Epoch 3/30\n",
            "240/240 [==============================] - 4s 18ms/step - loss: 0.0042 - accuracy: 0.9990 - val_loss: 0.0078 - val_accuracy: 0.9979\n",
            "Epoch 4/30\n",
            "240/240 [==============================] - 4s 18ms/step - loss: 0.0014 - accuracy: 0.9999 - val_loss: 0.0049 - val_accuracy: 0.9985\n",
            "Epoch 5/30\n",
            "240/240 [==============================] - 4s 18ms/step - loss: 4.9723e-04 - accuracy: 1.0000 - val_loss: 0.0041 - val_accuracy: 0.9992\n",
            "Epoch 6/30\n",
            "240/240 [==============================] - 4s 18ms/step - loss: 3.2832e-04 - accuracy: 1.0000 - val_loss: 0.0040 - val_accuracy: 0.9991\n",
            "Epoch 7/30\n",
            "240/240 [==============================] - 4s 17ms/step - loss: 2.7521e-04 - accuracy: 1.0000 - val_loss: 0.0039 - val_accuracy: 0.9989\n",
            "Epoch 8/30\n",
            "240/240 [==============================] - 4s 17ms/step - loss: 2.4407e-04 - accuracy: 1.0000 - val_loss: 0.0039 - val_accuracy: 0.9990\n",
            "Epoch 9/30\n",
            "240/240 [==============================] - 4s 17ms/step - loss: 2.1193e-04 - accuracy: 1.0000 - val_loss: 0.0040 - val_accuracy: 0.9989\n",
            "Epoch 10/30\n",
            "240/240 [==============================] - 4s 17ms/step - loss: 1.9085e-04 - accuracy: 1.0000 - val_loss: 0.0040 - val_accuracy: 0.9990\n",
            "Epoch 11/30\n",
            "240/240 [==============================] - 4s 18ms/step - loss: 1.7093e-04 - accuracy: 1.0000 - val_loss: 0.0039 - val_accuracy: 0.9989\n",
            "Epoch 12/30\n",
            "240/240 [==============================] - 4s 18ms/step - loss: 1.5208e-04 - accuracy: 1.0000 - val_loss: 0.0040 - val_accuracy: 0.9989\n",
            "Epoch 13/30\n",
            "240/240 [==============================] - 4s 17ms/step - loss: 1.4025e-04 - accuracy: 1.0000 - val_loss: 0.0040 - val_accuracy: 0.9989\n",
            "Epoch 14/30\n",
            "240/240 [==============================] - 4s 17ms/step - loss: 1.2494e-04 - accuracy: 1.0000 - val_loss: 0.0041 - val_accuracy: 0.9987\n",
            "Epoch 15/30\n",
            "240/240 [==============================] - 4s 17ms/step - loss: 1.1622e-04 - accuracy: 1.0000 - val_loss: 0.0043 - val_accuracy: 0.9988\n",
            "Epoch 16/30\n",
            "240/240 [==============================] - 4s 17ms/step - loss: 1.0270e-04 - accuracy: 1.0000 - val_loss: 0.0041 - val_accuracy: 0.9987\n",
            "Epoch 17/30\n",
            "240/240 [==============================] - 4s 17ms/step - loss: 9.3512e-05 - accuracy: 1.0000 - val_loss: 0.0046 - val_accuracy: 0.9987\n",
            "Epoch 18/30\n",
            "240/240 [==============================] - 4s 17ms/step - loss: 8.3747e-05 - accuracy: 1.0000 - val_loss: 0.0046 - val_accuracy: 0.9986\n",
            "Epoch 19/30\n",
            "240/240 [==============================] - 4s 17ms/step - loss: 0.0176 - accuracy: 0.9946 - val_loss: 0.0542 - val_accuracy: 0.9827\n",
            "Epoch 20/30\n",
            "240/240 [==============================] - 4s 17ms/step - loss: 0.0182 - accuracy: 0.9936 - val_loss: 0.0371 - val_accuracy: 0.9883\n",
            "Epoch 21/30\n",
            "240/240 [==============================] - 4s 17ms/step - loss: 0.0047 - accuracy: 0.9986 - val_loss: 0.0196 - val_accuracy: 0.9931\n",
            "Epoch 22/30\n",
            "240/240 [==============================] - 4s 17ms/step - loss: 8.3728e-04 - accuracy: 0.9999 - val_loss: 0.0166 - val_accuracy: 0.9942\n",
            "Epoch 23/30\n",
            "240/240 [==============================] - 4s 17ms/step - loss: 3.1155e-04 - accuracy: 1.0000 - val_loss: 0.0166 - val_accuracy: 0.9942\n",
            "Epoch 24/30\n",
            "240/240 [==============================] - 4s 17ms/step - loss: 2.1409e-04 - accuracy: 1.0000 - val_loss: 0.0163 - val_accuracy: 0.9943\n",
            "Epoch 25/30\n",
            "240/240 [==============================] - 4s 17ms/step - loss: 1.7575e-04 - accuracy: 1.0000 - val_loss: 0.0160 - val_accuracy: 0.9945\n",
            "Epoch 26/30\n",
            "240/240 [==============================] - 4s 17ms/step - loss: 1.5078e-04 - accuracy: 1.0000 - val_loss: 0.0162 - val_accuracy: 0.9947\n",
            "Epoch 27/30\n",
            "240/240 [==============================] - 4s 17ms/step - loss: 1.3358e-04 - accuracy: 1.0000 - val_loss: 0.0161 - val_accuracy: 0.9945\n",
            "Epoch 28/30\n",
            "240/240 [==============================] - 4s 17ms/step - loss: 1.1748e-04 - accuracy: 1.0000 - val_loss: 0.0160 - val_accuracy: 0.9947\n",
            "Epoch 29/30\n",
            "240/240 [==============================] - 4s 17ms/step - loss: 1.0383e-04 - accuracy: 1.0000 - val_loss: 0.0163 - val_accuracy: 0.9949\n",
            "Epoch 30/30\n",
            "240/240 [==============================] - 4s 17ms/step - loss: 9.3094e-05 - accuracy: 1.0000 - val_loss: 0.0162 - val_accuracy: 0.9948\n"
          ]
        }
      ]
    },
    {
      "cell_type": "markdown",
      "metadata": {
        "id": "d1GE4jIbYshb"
      },
      "source": [
        "**Построим график**"
      ]
    },
    {
      "cell_type": "code",
      "metadata": {
        "id": "k6j0cltGzdCp",
        "colab": {
          "base_uri": "https://localhost:8080/",
          "height": 279
        },
        "outputId": "79791017-e01e-4e33-d9c9-3e3138c5926a"
      },
      "source": [
        "plt.plot(history.history['accuracy'], \n",
        "         label='Доля верных ответов на обучающем наборе')\n",
        "plt.plot(history.history['val_accuracy'], \n",
        "         label='Доля верных ответов на проверочном наборе')\n",
        "plt.xlabel('Эпоха обучения')\n",
        "plt.ylabel('Доля верных ответов')\n",
        "plt.legend()\n",
        "plt.show()"
      ],
      "execution_count": null,
      "outputs": [
        {
          "output_type": "display_data",
          "data": {
            "image/png": "[encoded data removed]",
            "text/plain": [
              "<Figure size 432x288 with 1 Axes>"
            ]
          },
          "metadata": {
            "needs_background": "light"
          }
        }
      ]
    },
    {
      "cell_type": "markdown",
      "metadata": {
        "id": "8OsyUFVULEkG"
      },
      "source": [
        "## Сохраняем обученную нейронную сеть"
      ]
    },
    {
      "cell_type": "code",
      "metadata": {
        "id": "jCcYrRwfLYg-"
      },
      "source": [
        "model.save(\"mnist_dense.h5\")\n"
      ],
      "execution_count": null,
      "outputs": []
    },
    {
      "cell_type": "code",
      "metadata": {
        "id": "DFOL85B1IEgO",
        "colab": {
          "base_uri": "https://localhost:8080/"
        },
        "outputId": "3232b81b-cd97-47aa-bd83-697089f4c911"
      },
      "source": [
        "!ls"
      ],
      "execution_count": null,
      "outputs": [
        {
          "output_type": "stream",
          "name": "stdout",
          "text": [
            "mnist_dense.h5\tsample_data\n"
          ]
        }
      ]
    },
    {
      "cell_type": "markdown",
      "metadata": {
        "id": "52MAtyzWGKAC"
      },
      "source": [
        "**Сохраняем файлы на локальный компьютер**"
      ]
    },
    {
      "cell_type": "code",
      "metadata": {
        "id": "0etc3S-PGOuy",
        "colab": {
          "base_uri": "https://localhost:8080/",
          "height": 17
        },
        "outputId": "1373793e-7ead-46a3-f606-ac0a9e0c4580"
      },
      "source": [
        "files.download(\"mnist_dense.h5\")"
      ],
      "execution_count": null,
      "outputs": [
        {
          "output_type": "display_data",
          "data": {
            "application/javascript": [
              "\n",
              "    async function download(id, filename, size) {\n",
              "      if (!google.colab.kernel.accessAllowed) {\n",
              "        return;\n",
              "      }\n",
              "      const div = document.createElement('div');\n",
              "      const label = document.createElement('label');\n",
              "      label.textContent = `Downloading \"${filename}\": `;\n",
              "      div.appendChild(label);\n",
              "      const progress = document.createElement('progress');\n",
              "      progress.max = size;\n",
              "      div.appendChild(progress);\n",
              "      document.body.appendChild(div);\n",
              "\n",
              "      const buffers = [];\n",
              "      let downloaded = 0;\n",
              "\n",
              "      const channel = await google.colab.kernel.comms.open(id);\n",
              "      // Send a message to notify the kernel that we're ready.\n",
              "      channel.send({})\n",
              "\n",
              "      for await (const message of channel.messages) {\n",
              "        // Send a message to notify the kernel that we're ready.\n",
              "        channel.send({})\n",
              "        if (message.buffers) {\n",
              "          for (const buffer of message.buffers) {\n",
              "            buffers.push(buffer);\n",
              "            downloaded += buffer.byteLength;\n",
              "            progress.value = downloaded;\n",
              "          }\n",
              "        }\n",
              "      }\n",
              "      const blob = new Blob(buffers, {type: 'application/binary'});\n",
              "      const a = document.createElement('a');\n",
              "      a.href = window.URL.createObjectURL(blob);\n",
              "      a.download = filename;\n",
              "      div.appendChild(a);\n",
              "      a.click();\n",
              "      div.remove();\n",
              "    }\n",
              "  "
            ],
            "text/plain": [
              "<IPython.core.display.Javascript object>"
            ]
          },
          "metadata": {}
        },
        {
          "output_type": "display_data",
          "data": {
            "application/javascript": [
              "download(\"download_6a66128b-b4c8-4f63-9915-0d9b57cacd39\", \"mnist_dense.h5\", 7658504)"
            ],
            "text/plain": [
              "<IPython.core.display.Javascript object>"
            ]
          },
          "metadata": {}
        }
      ]
    },
    {
      "cell_type": "markdown",
      "metadata": {
        "id": "7vMx5V5QMYlW"
      },
      "source": [
        "## Используем сеть для распознавания рукописных цифр"
      ]
    },
    {
      "cell_type": "code",
      "metadata": {
        "id": "-AGygAcPMd0G"
      },
      "source": [
        "n_rec = 10"
      ],
      "execution_count": null,
      "outputs": []
    },
    {
      "cell_type": "code",
      "metadata": {
        "id": "USjSLBr27PI2",
        "colab": {
          "base_uri": "https://localhost:8080/",
          "height": 265
        },
        "outputId": "9487d204-1a24-4566-cd61-5228fbdb1fae"
      },
      "source": [
        "plt.imshow(Image.fromarray(x_test_org[n_rec]).convert('RGBA'))\n",
        "plt.show()"
      ],
      "execution_count": null,
      "outputs": [
        {
          "output_type": "display_data",
          "data": {
            "image/png": "[encoded data removed]",
            "text/plain": [
              "<Figure size 432x288 with 1 Axes>"
            ]
          },
          "metadata": {
            "needs_background": "light"
          }
        }
      ]
    },
    {
      "cell_type": "markdown",
      "metadata": {
        "id": "Lnft8V55M0Rc"
      },
      "source": [
        "**Меняем размерность изображения и нормализуем его**"
      ]
    },
    {
      "cell_type": "code",
      "metadata": {
        "id": "UKFWqSHtM7Nf"
      },
      "source": [
        "x = x_test[n_rec]\n",
        "x = np.expand_dims(x, axis=0)"
      ],
      "execution_count": null,
      "outputs": []
    },
    {
      "cell_type": "markdown",
      "metadata": {
        "id": "bMruIcf2NHlN"
      },
      "source": [
        "**Запускаем распознавание**"
      ]
    },
    {
      "cell_type": "code",
      "metadata": {
        "id": "Ap72-9_kNKU2"
      },
      "source": [
        "prediction = model.predict(x)"
      ],
      "execution_count": null,
      "outputs": []
    },
    {
      "cell_type": "markdown",
      "metadata": {
        "id": "2Gldpmn2NQ6-"
      },
      "source": [
        "**Печатаем результаты распознавания**"
      ]
    },
    {
      "cell_type": "code",
      "metadata": {
        "id": "P7opRiSZNUku",
        "colab": {
          "base_uri": "https://localhost:8080/"
        },
        "outputId": "d8b12591-7769-41be-ba51-4491a0671b38"
      },
      "source": [
        "print(prediction)"
      ],
      "execution_count": null,
      "outputs": [
        {
          "output_type": "stream",
          "name": "stdout",
          "text": [
            "[[1. 0. 0. 0. 0. 0. 0. 0. 0. 0.]]\n"
          ]
        }
      ]
    },
    {
      "cell_type": "markdown",
      "metadata": {
        "id": "LQTiyEM3NfRG"
      },
      "source": [
        "**Преобразуем результаты из формата one hot encoding**"
      ]
    },
    {
      "cell_type": "code",
      "metadata": {
        "id": "XVC_dTGqNohG",
        "colab": {
          "base_uri": "https://localhost:8080/"
        },
        "outputId": "2cc1628a-1921-433d-eae0-2ec9dc727ba7"
      },
      "source": [
        "prediction = np.argmax(prediction)\n",
        "print(prediction)"
      ],
      "execution_count": null,
      "outputs": [
        {
          "output_type": "stream",
          "name": "stdout",
          "text": [
            "0\n"
          ]
        }
      ]
    },
    {
      "cell_type": "markdown",
      "metadata": {
        "id": "zJy8tKjuNyD2"
      },
      "source": [
        "**Печатаем правильный ответ**"
      ]
    },
    {
      "cell_type": "code",
      "metadata": {
        "id": "0zoGlCZWN2Id",
        "colab": {
          "base_uri": "https://localhost:8080/"
        },
        "outputId": "21f7c406-5ab1-4bf8-eaa2-09e8a2c0c843"
      },
      "source": [
        "print(y_test_org[n_rec])"
      ],
      "execution_count": null,
      "outputs": [
        {
          "output_type": "stream",
          "name": "stdout",
          "text": [
            "0\n"
          ]
        }
      ]
    },
    {
      "cell_type": "markdown",
      "metadata": {
        "id": "uFyI8beELi39"
      },
      "source": [
        "## Загружаем свою картинку"
      ]
    },
    {
      "cell_type": "code",
      "metadata": {
        "id": "Pbsw3N30LnT2",
        "colab": {
          "resources": {
            "http://localhost:8080/nbextensions/google.colab/files.js": {
              "data": "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",
              "ok": true,
              "headers": [
                [
                  "content-type",
                  "application/javascript"
                ]
              ],
              "status": 200,
              "status_text": ""
            }
          },
          "base_uri": "https://localhost:8080/",
          "height": 110
        },
        "outputId": "7727a1d6-bf07-49cf-9510-b8250b03f9e2"
      },
      "source": [
        "files.upload()"
      ],
      "execution_count": null,
      "outputs": [
        {
          "output_type": "display_data",
          "data": {
            "text/html": [
              "\n",
              "     <input type=\"file\" id=\"files-e13bf447-82e7-496a-8957-2f525dbbfb7e\" name=\"files[]\" multiple disabled\n",
              "        style=\"border:none\" />\n",
              "     <output id=\"result-e13bf447-82e7-496a-8957-2f525dbbfb7e\">\n",
              "      Upload widget is only available when the cell has been executed in the\n",
              "      current browser session. Please rerun this cell to enable.\n",
              "      </output>\n",
              "      <script src=\"/nbextensions/google.colab/files.js\"></script> "
            ],
            "text/plain": [
              "<IPython.core.display.HTML object>"
            ]
          },
          "metadata": {}
        },
        {
          "output_type": "stream",
          "name": "stdout",
          "text": [
            "Saving 6.png to 6.png\n"
          ]
        },
        {
          "output_type": "execute_result",
          "data": {
            "text/plain": [
              "{'6.png': b'\\x89PNG\\r\\n\\x1a\\n\\x00\\x00\\x00\\rIHDR\\x00\\x00\\x01*\\x00\\x00\\x014\\x08\\x02\\x00\\x00\\x00\\x14\\x84\\xe9\\x93\\x00\\x00\\x00\\x01sRGB\\x00\\xae\\xce\\x1c\\xe9\\x00\\x00\\x00\\x04gAMA\\x00\\x00\\xb1\\x8f\\x0b\\xfca\\x05\\x00\\x00\\x00\\tpHYs\\x00\\x00\\x0e\\xc3\\x00\\x00\\x0e\\xc3\\x01\\xc7o\\xa8d\\x00\\x00\\x0c?IDATx^\\xed\\xdd-t\\xdb\\xca\\x16\\x86\\xe1\\x03\\x03\\r\\x03\\x03\\x03\\x0b\\x03\\x0b\\x03\\x0b\\x0b\\x0b\\x0b\\r\\xcd\\n\\r\\r\\x0b\\r\\x0b\\x0b\\r\\r\\r\\r\\x03\\r\\x0b\\r\\x03{v\\xabYnbK[\\x96,\\xe9\\x9b\\x9f\\xf7A\\xf7\\x9e\\xa5\\xa4\\x89\\x96^\\xcfhFv\\xfe\\xfb\\r@\\x84\\xfc\\x00\\x19\\xf2\\x03d\\xc8\\x0f\\x90!?@\\x86\\xfc\\x00\\x19\\xf2\\x03d\\xc8\\x0f\\x90!?@\\x86\\xfc\\x00\\x19\\xf2\\x03d\\xc8\\x0f\\x90!?@\\x86\\xfc\\x00\\x19\\xf2\\x03d\\xc8\\x0f\\x90!?@\\x86\\xfc\\x00\\x19\\xf2\\x03d\\xc8\\x0f\\x90!?@\\x86\\xfc\\x00\\x19\\xf2\\x03d\\xc8\\x0f\\x90!?@\\x86\\xfc\\x00\\x19\\xf2\\x03d\\xc8\\x0f\\x90!?@\\x86\\xfc\\x00\\x19\\xf2\\x03d\\xc8\\x0f\\x90!?@\\x86\\xfc\\x00\\x19\\xf2\\x03d\\xc8\\x0f\\x90!?@\\x86\\xfc\\x00\\x19\\xf2\\x03d\\xc8\\x0f\\x90!?@\\x86\\xfc\\x00\\x19\\xf2\\x03d\\xc8\\x0f\\x90!?@\\x86\\xfc\\x00\\x19\\xf2\\x03d\\xc8\\x0f\\x90!?@\\x86\\xfc\\x00\\x19\\xf2\\x03d\\xc8\\x0f\\x90!?@\\x86\\xfc\\x00\\x19\\xf2\\x03d\\xc8\\x0f\\x90!?@\\x86\\xfc\\x00\\x19\\xf2\\x03d\\xc8\\x0f\\x90!?@\\x86\\xfc\\x00\\x19\\xf2\\x03d\\xc8\\x0f\\x90!?@\\x86\\xfc\\x00\\x19\\xf2\\x03d\\xc8/+///\\xeb\\xf5\\xfa\\xdb\\x15\\xec\\xb0\\xfd~\\x1f\\xbe\\x0c\"\\xe4\\x97\\xa4\\xda\\xcc\\x9e\\x9f\\x9f\\xff\\xeb\\xe8\\xe9\\xe9\\x89\\x0e\\x85\\xc8/\\r\\x87\\xc3\\xe1\\xd4[\\x8f\\xccZY\\x87\\xd577\\x049\\x19\\xf2\\x8b\\xd1\\xd9\\xe0\\xf6\\xe1\\xc3\\x87P\\xc9\\x84,\\xc8\\xddn\\x17~ \\x8c\\x83\\xfc\\x94\\x86\\x9aC\\x8e\\xc7\"\\xb4\\x1f2\\xfc\\xb8\\x18\\x1a\\xf9M\\xeamoQe\\xe6x||\\xb4\\x9f\\x96\\x19\\xe9\\x18\\xc8o\\\\)\\xf6\\xe6`0\\x1c\\x16\\xf9\\r\\xe6r&\\x99Ao\\x97l0|}}\\r\\xbf3nC~\\xb7\\xaa\\xaa\\x8b\\xaa\\xb4\\xbb\\xbb\\xbb\\xf9|\\x1e^\\x03.\\xdc\\xdf\\xdf\\x87\\xe3\\xfabUf(\\xe4\\xd7\\x93\\xdd\\x08\\xc9\\xabk\\xca\\xcc\\x9f\\x1f\\x1e\\x8f\\xc7\\xd5je\\x87-\\x16\\x8b\\xd9l\\x16\\xbeWwLDoG~\\x1dT\\xc9\\xd9\\x85\\xab\\xaa\\xee\\xd3\\xa7O\\x7f\\xfb\\nn\\xbf\\xfa\\x7f\\xfd\\xfa\\x15\\xbe\\xd7_]\\x07F\\xab\\x97\\xf5\\x98[\\x90\\xdfUl\\xc4\\x98>\\xb9\\xb7\\x83\\x9b\\x8dW\\x13\\x0c5\\xd5\\xc0\\xd8)Bn\\x05oA~\\xed\\xec\\xa2\\xb4\\x89V\\xb8\\xdcF\\xd0o\\x0e9\\x1e\\xfb}\\x97\\xcb\\xe5\\xf5\\xf3R\\x9b\\x11\\x84\\xafDG\\xe4\\xd7\\xee\\xe3\\xc7\\x8f\\xe1B\\x1b\\xc8Yoq\\xdeAU\\xf3R\\xbb?\\xb4\\x9f6\\xfc\\xdc\\r\\x18\\x00{#?\\x8f]\\x82\\x83\\xcc9\\x93\\xe8\\xad\\xc9f\\xb3i\\x1d\\t\\x7f\\xfc\\xf8\\x11\\x8eF\\x17\\xe4\\xd7\\xc8\\xda{xx\\x08\\xd7\\xd7\\xd5jg\\x92i\\xf5vi\\xb7\\xdb\\xf97\\x84\\x0c\\x80\\xfd\\x90_\\xa3N\\xe3\\xde\\xa9\\xba\\xd4Kkb7\\x84\\xf6\\x0b\\x86\\xdf\\xb6\\x0e\\x03`\\x0f\\xe4W\\xa3\\xd3:g\\x15^\\xae\\xd5\\xbde\\xe3\\x9b3\\x1d`\\x00\\xec\\x81\\xfc\\xce]\\xb3\\xcey\\x1a\\xebV\\xab\\x95\\xcdQ\\xc3W\\x16\\xc0\\x86\\xb8p\\n\\xea0\\x00vE~\\xe7\\xaeY\\xe7,\\xf6:\\xf3\\x07@{=\\n\\xc7\\xe1:\\xe4\\xf7\\xcen\\xb7\\x0b\\x97R\\x03\\x1b\\xf7\\n\\xdf\\xe6r\\x96a\\xc8\\xaf+\\xf2\\xfb\\xe7\\x9ai\\'[\\xcc\\xc62\\x0b\\xa7\\xe3=\\xf2\\xeb\\x8a\\xfc\\x82+o\\xf9\\x8a\\xba\\xd3k\\xd2\\x94\\x1f\\xab/]\\x91_\\xd0z\\xcbg\\xed\\xb1\\xb4PY.\\x97\\xe1\\xa4\\\\\\xe0\\x14uB~\\x7f\\xb4\\xde\\xf2}\\xfd\\xfa\\x95q\\xefd\\xb3\\xd9\\x84\\xf3r\\x81\\xf9g\\'\\xe4\\xf7g\\xda\\xe9\\x0f}\\xcc9\\xcf8\\xeb\\x9f\\xe4\\xd7\\t\\xf9\\xb5L;\\x99s\\xd6b\\xf5e\\x10\\xa5\\xe7\\xe7O;i\\xaf\\t\\xf9\\r\\xa2\\xf4\\xfcV\\xabU\\xb8p\\xea,\\x97\\xcbp\\x1c\\xde#\\xbfA\\x94\\x9e\\x9f3\\xf3\\xb4\\xa1\\xefp8\\x84\\xe3\\xf0\\x1e\\xf9\\r\\xa2\\xe8\\xfc\\xfc\\x99\\'\\xd3N\\x07\\xf9\\r\\xa2\\xdc\\xfc\\xfc}\\xf6\\xf9|\\x1e\\x8eC\\x9d\\xa6\\xad?\\xf2\\xeb\\xa4\\xdc\\xfc\\xfc\\x05O\\x1e.\\xf35m\\xfdq\\xde:)4\\xbf\\xd6\\x05O6\\xfa|\\xb5[\\x7f\\x9c\\xb7\\xae\\n\\xcd\\xcfY\\xf0d\\xb3\\xe1Jgo}\\xe0\\xbc\\xf5Ph~\\xce\\xcc\\xd3\\xca\\x0c\\x07\\xa1\\x8d\\xdd?\\xdb\\xe9\\xb2\\xfb\\xbd\\xd2\\xdev<\\x94\\x12\\xf3\\xdbn\\xb7!\\xb5\\x0bL\\x9f0\\xa5\\xe2\\xf2\\xb3\\xba\\x9c\\xf7k/\\x16\\x8bp\\x1c0\\xbe\\xe2\\xf2\\xf3?C\\x89\\x85;L\\xa9\\xac\\xfc\\xf6\\xfb}\\xe8\\xac\\x0e3OL\\xac\\xac\\xfcX\\xf0DT\\xca\\xca\\xcf\\x99y\\xd2\\x1e\\xa6WP~\\xce\\xcc\\x93G\\xcc QJ~\\xfe\\x13\\x9e\\xec\\xf5A\\xa2\\x94\\xfcxc\\x11\"TD~\\xfe\\x13\\x9e\\xbc\\xa7\\x16*E\\xe4\\xe7/x2\\xf4A\\xa5\\x88\\xfc\\x9c\\x05O\\xee\\xfa \\x94\\x7f~\\xce\\x82\\'\\xfb\\xec\\xd0\\xca??g\\xd1\\x85\\xbb>he\\x9e\\x9f\\xb3\\xe8\\xc2]\\x1f\\xe42\\xcf\\xcf\\xb9\\xeb\\xe3\\xcd\\r\\x90\\xcb9?\\xff\\x01k\\xde\\xdc\\x00\\xb9\\x9c\\xf3\\xf3\\xb7\\xdaYt\\x81\\\\\\xb6\\xf9\\xf9w}<`\\x8d\\x18d\\x9b\\x9f3\\xf4q\\xd7\\x87H\\xe4\\x99\\x9f\\xff\\x94\\x19w}\\x88D\\x9e\\xf99\\x0b\\x9e\\xdc\\xf5!\\x1e\\x19\\xe6\\xe7/x\\xf2\\x94\\x19\\xe2\\x91a~\\xfe\\x03\\xd6\\x0c}\\x88G\\x86\\xf95-\\xba\\xb0\\xe0\\x89\\xd8\\xe4\\x96\\x9f\\xb3\\xe8\\xc2\\x82\\'b\\x93[~\\xce\\xcc\\x93\\xbf}\\x85\\xd8\\xe4\\x96\\x9f\\xb3\\xdd\\xc7~\\x03b\\x93U~\\xfe\\x93.,\\xba 6Y\\xe5\\xe7\\xcc<\\xb9\\xf1C\\x84\\xb2\\xca\\xaf\\xe9\\x0f\\x8e\\x1bf\\x9e\\x88P\\x11\\xf91\\xf3D\\x9c\\x8a\\xc8\\x8f\\x99\\'\\xe2\\x94U~M\\xcb\\x9el9 N\\xf9\\xe4\\xe7,{\\x92\\x1f\\xe2\\x94O~l\\xb8#9\\xf9\\xe4\\xc7\\x86;\\x92\\x93I~l\\xb8#E\\x99\\xe4\\xc7GK E9\\xe4\\xc7GK Q9\\xe4\\xc7\\xfbk\\x91\\xa8\\x1c\\xf2k\\xdam7Vf8\\x08\\x88O\\xce\\xf91\\xf4!r9\\xe7\\xc7\\xa2\\x0b\"\\x97s~\\xec\\xb6#r\\xe4\\x07\\xc8\\xe4\\x90_\\xeb\\x93\\xd6\\xfb\\xfd~\\xbd^\\xdb\\xff\\x1d\\x9c}\\xdb\\x97\\x97\\x97\\xea_\\x01\\xbaJ>?\\xffIkk\\xc3\\xf9\\xc4\\xeb\\xa1<<<T5V\\xacI\\x0b>\\xfc|@\\xb3\\xe4\\xf3s6\\xfdf\\xb3Y\\xf8_\\nOOO!G\\x82D\\x83\\xe4\\xf3\\xb3\\x8b;\\\\\\xef\\xd1{\\x1b\\xe4\\x19\\xfa,\\x13\\xf9E\\xc4\\xfa\\xa4\\xc3\\xa2\\x90_\\x8c\\xaaq\\x92\\x14\\xb3G~\\xb1;\\x9b\\xb2\\xd2dN\\xc8/ILS\\xf3PV~www\\xf3\\xf9\\xfc\\xef(2\\x80/_\\xbe\\x84\\xef\\xab\\xc345i\\xc9\\xe7\\xe7\\xbc\\xd1\\xf6\\xad\\xcf\\x9f?\\xafV\\xab\\xc1\\x9f\\xc0>\\x1c\\x0e\\xdf\\xbf\\x7f\\xafj4\\xf7\\xf7\\xf7\\xe1\\xdfS`HLN\\xda\\xf9\\xf9o\\xb4=\\x99\\xec\\xad\\x0f\\xc7\\xe3\\xd1\"\\x0f-\\xfe\\xb5X,\\xa6\\xdf~\\xb4\\x0e\\xed\\xcc\\x84\\x9f\\t\\x11K;?\\x1by\\xc2\\x15\\xd7\\xcc\\xda\\xd3\\xfeUM+?\\xb4Xg\\xbc>\\x99\\x97\\xc6/\\xed\\xfc6\\x9bM\\xb8\\xd6\\xeaXxcL8\\x07W\\xf59\\xea8\\xc9x\\x18\\xa7\\xb4\\xf3{}}}xx\\x08\\x97\\xd8{\\xf2A\\xaf\\x87\\xd389R\\x8a\\x16!\\x0f\\x88G%\\xf9\\xa5\\x17\\xbbX\\xc3\\xc5\\xf5^\\xea\\xef\\xb5\\xbd\\x9c\\xb2\\x0e\\xb2\\xae\\xf3\\xf8\\xf8\\xc80\\x18\\x8fl\\xf3\\xb3\\xff\\x1e\\x8e\\xc8\\xc5i]\\xe7\\xf6\\x0e\\x99\\x8bF\\x82\\xfc\\xd2\\xf3v}\\xf5\\x96\\x14\\x99\\x8b\\xca\\x91_\\xdan\\x1c\\x12m.J\\x81B\\xe4\\x97\\x89\\xaa\\xc3\\x1e\\x11R\\xa0\\x10\\xf9e\\xa5\\xdf\\xbc\\x94\\x02U\\xc8/[\\x9d\\xc6C+\\xf0\\xf5\\xf55|%\\xa6B~\\x99\\xdb\\xedvW\\x16\\x98\\xdc6i\\x06\\xc8/\\x7f\\xd50\\xd8\\xba\\x95\\xcf\\x008=\\xf2+H\\xebH\\xf8\\xf3\\xe7\\xcfp(&A~e\\xf1\\x0b\\xe4\\xa4M\\x8c\\xfc\\x8ac\\xf7x\\xe1\\x1c]`\\ttb\\xe4W\\x1c\\xe79uC\\x81S\"\\xbf\\x12-\\x97\\xcbp\\x9a\\xea\\xb0\\x063\\x19\\xf2+\\x91\\xff>I\\xc3\\x1a\\xcc4\\xc8\\xafD\\xfe\\xfc\\xd3p\\xf6\\xa6\\x91m~\\xcc\\xa0|\\xfe\\x12(go\\x1a\\xc9\\xe7\\xe7\\xdc\\xc6\\xac\\xd7\\xebp\\x10\\xea\\xf8\\x05\\xf2\\x10\\xcc\\x04\\x92\\xcf\\xcf\\xb9\\x8d\\xe1%\\xbc\\x95\\xf3\\xe25\\x9b\\xcd\\xf8\\x8c\\xa6\\xb1%\\x9f\\x9f\\x7f\\x1b\\xc3\\x12\\x82\\xcf_\\x83\\xe1\\xf5kl\\xc9\\xe7g\\x9c\\x97p\\x96\\x10|\\xfe\\x8b\\x97a\\n:\\xaa\\x1c\\xf2c\\xfey\\x0b\\xe7!\\x18\\xc3\\xeb\\xd7\\xa8r\\xc8\\x8f\\xf9\\xe7-\\xfc\\xb3G~\\xa3\\xca!?\\xc3\\xfc\\xf3\\x16;\\xf7\\xef\\xe3\\x87\\x830\\x82L\\xf2s\\xe6\\x9f\\\\@\\xad\\xc8O%\\x93\\xfc\\x9c\\x19\\x14\\x17P\\xab\\xd5j\\x15N\\xd6\\x05\\xce\\xde\\xa82\\xc9\\xcf\\xd8\\x85\\x12.\\x99\\xf7\\x1ey\\x84\\xbfM\\xd3\\xa93<\\xba0\\xaa|\\xf2sn\\xffX\\xff\\xf45\\xe57\\xd9\\x1ff+V>\\xf9\\xf9;\\xc8\\xac\\x7f:\\x9a\\xf2K\\xfd\\xefd\\xc4/\\x9f\\xfcX@\\xef\\xad)?N\\xda\\xd8\\xf2\\xc9\\xcf\\xf8\\x1f\\xa3\\xc0\\xfc\\xb3I\\xd3\\x1f\\xe8&\\xbf\\xb1e\\x95\\x9f?\\x00\\xb2\\x8aP\\x8b]\\x07\\xa1\\xac\\xf23\\x0c\\x80]5\\r}\\x86\\xfc\\xc6\\x96[~\\xfe\\x00\\xc8\\x03\\xc4g\\x9c\\xa1\\xcf0_\\x18[n\\xf9\\x19v \\xae\\xe7l\\xb8\\xb3\\xeb0\\x81\\x0c\\xf3c\\x07\\xe2z\\xcf\\xcf\\xcf\\xe1\\xbc\\\\\\xb02\\xc3A\\x18M\\x86\\xf9\\xf9\\xf3O\\xeegN\\xf6\\xfb}8)\\x17\\x18\\xfa\\xa6\\x91a~\\xc6Y\\x80!\\xbf\\x13g\\xe6i\\x13\\xf8p\\x10\\xc6\\x94g~\\xce\\x00H~\\'Mk\\x9e6\\xf4\\x1d\\x0e\\x87p\\x10\\xc6\\x94g~\\xc62\\x0bW\\xd3{\\xac\\xbeT\\x9c5O\\x9e5\\x9bL\\xb6\\xf99\\xeb\\x9f\\xac\\xa7\\x1b\\xb6\\xfbb\\x90m~|\\x00\\x8c\\x83\\xed\\xbeHd\\x9b\\x9f\\xbf\\xfeY\\xf8\\xfe\\xbb3\\xf4\\xb1\\xe69\\xa5l\\xf33\\xec\\xbf\\xd7\\xf2\\x87>\\xb6\\xfb\\xa6\\x94s~\\xec\\xbf\\xd7\\xe2I\\x97x\\xe4\\x9c\\x9f?\\xff\\x9c\\xcf\\xe7\\xe1\\xb8\\xc283O\\x86\\xbe\\x89\\xe5\\x9c\\x9fq\\xf6\\xdf\\xcd\\xd3\\xd3Si\\x1f\\x03\\xe3\\xcc<\\x19\\xfa\\xa6\\x97y~\\xfe\\x00h\\xec&p\\xbd^\\x17\\xf2\\xb7D\\x8e\\xc7\\xa3\\xbd\\xe2\\x84\\xdf\\xfc\\x02\\xdb}\\xd3\\xcb<?\\xe3\\x0f\\x80\\'v]\\xda\\xc8\\x10\\xbe&S\\xce\\xb4\\xd3\\xb0\\xdf0\\xbd\\xfc\\xf3k\\x1d\\x00\\xdf\\xcax:\\xea/x2\\xf3\\x94\\xc8??\\xb3\\xddn\\xed\\xf2\\n\\x17Z\\x1b\\x9b\\x8ef9\\x17\\xf5\\x17<y#\\xb2D\\x11\\xf9\\x99\\xcdfs}\\x81&\\xbf\\xb9(o\\xed\\x8bP)\\xf9\\x19+p6\\x9b\\x85+\\xee:y\\xccE\\x8f\\xc7\\xa3\\xd3\\x1e\\xd3N\\xa1\\x82\\xf236\\xa09\\x7f\\xcd\\xbc\\x96\\xcdES\\x1f\\x06\\xfd\\x15\\x17\\xde\\xda\\'TV~\\xc6\\x86\\x02\\xbb\\xe0z\\x0c\\x83\\x89F\\xd8\\xba\\xe2\\xc2[\\xfb\\x84\\x8a\\xcb\\xafb\\xd3\\xado\\xdf\\xbeu\\x1d\\tS\\x8c\\xd0Yq1\\x0c}Z\\x85\\xe6W\\xa9F\\xc2NK2&\\xa1\\x08\\xedU\\xc6\\xd9ta\\xe8\\x93+:\\xbfJ\\x8f%\\x19\\x13\\x7f\\x84\\xfe3.\\x86\\xcd\\x069\\xf2\\xfb\\xa3\\xdf\\\\\\xd4\\xd8\\xf5\\x1d\\xed\\xd2\\xa8\\xbf\\xe2R\\xec\\x13\\xe7Q!\\xbf\\x7fl\\xb8\\xb0;\\xa5\\xae\\x11\\xda\\xc8\\xb9\\xddn\\xc3\\xb7\\x88\\x86\\xbf\\xe2bx\\xc4,\\x06\\xe4w\\xce.\\xdc~\\xc3`TsQg\\xa3\\xcf\\xb0\\xd7\\x17\\t\\xf2\\xabQ\\r\\x83\\x8b\\xc5\"\\xd1mz\\xe7\\xf3s\\x8d\\xb5\\xc7]_$\\xc8\\xcfcCD\\xd7\\x08\\xed`\\xbb\\x8d\\xd4\\xbe\\x89\\xc9\\x7f\\xc6\\x85\\xd5\\xcex\\x90_\\xbb~\\xd3Q#\\x99\\x91\\xfa\\x1f\\x1d\\xcf\\xb8\\x17\\x15\\xf2\\xbbJ\\xbfU\\x99\\x8aE8\\xd9x\\xe8o6\\xb0\\xc9\\x1e\\x1b\\xf2\\xeb\\xa0\\x8a\\xf0\\xfaw\\x0f^\\x1a{<\\xf4?A\\x90igl\\xc8\\xaf\\xb3\\xdes\\xd1\\x93\\x91\"\\xdcn\\xb7\\xe1\\x1f\\xa8\\xc3gID\\x88\\xfc\\xfa\\xe8\\xbd4\\xfaV5)\\xad\\xdc>5\\xf5\\x9f/3l\\xf4E\\x88\\xfcnR-\\x8d\\xda\\xbc.\\\\\\xe3\\xb7\\xb1 \\xfbuh_\\xe2\\xdc\\xf2\\x19\\xfb\\t\\xd9\\xe8\\x8b\\x10\\xf9\\r\\xa0\\xdfS\\xa3\\x8e\\xeb;\\xb4q\\xd8\\xdfa7,xF\\x8b\\xfc\\x86acK5\\x8d\\xbcqFz\\xe6\\xed\\x04\\xb5\\x96?\\xe8\\x19\\xda\\x8b\\x19\\xf9\\r\\xef\\xf6\\xb5\\x99\\x01\\xd1^\\xcc\\xc8o\\x14\\xd5\\xdaL5@\\r;\\x1ev\\xc2F_\\xe4\\xc8o\\n\\x92\\xf1\\x90\\xe5\\x96\\xf8\\x91\\xdfD\\x06\\xd9\\xab\\xb8\\x1e\\xb7|I \\xbf\\xa9\\x9d\\x16i*\\x83\\x8f\\x8a\\x16\\x9e}[\\xc6\\xbd$\\x90\\x9f\\xd8\\xe9.q\\x90\\x0e\\x19\\xf4\\xd2B~\\xb1\\xb8\\xbdC\\xdaK\\x0e\\xf9E\\xe7\\xed\\xaa\\xe9\\xf5\\xecK\\x98p&\\x87\\xfc\\x00\\x19\\xf2\\x03d\\xc8\\x0f\\x90!?@\\x86\\xfc\\x00\\x19\\xf2\\x03d\\xc8\\x0f\\x90!?@\\x86\\xfc\\x00\\x19\\xf2\\x03d\\xc8\\x0f\\x90!?@\\x86\\xfc\\x00\\x19\\xf2\\x03d\\xc8\\x0f\\x90!?@\\x86\\xfc\\x00\\x19\\xf2\\x03d\\xc8\\x0f\\x90!?@\\x86\\xfc\\x00\\x19\\xf2\\x03d\\xc8\\x0f\\x90!?@\\x86\\xfc\\x00\\x19\\xf2\\x03d\\xc8\\x0f\\x90!?@\\x86\\xfc\\x00\\x19\\xf2\\x03d\\xc8\\x0f\\x90!?@\\x86\\xfc\\x00\\x19\\xf2\\x03d\\xc8\\x0f\\x90!?@\\x86\\xfc\\x00\\x19\\xf2\\x03d\\xc8\\x0f\\x90!?@\\x86\\xfc\\x00\\x19\\xf2\\x03d\\xc8\\x0f\\x90!?@\\x86\\xfc\\x00\\x19\\xf2\\x03d\\xc8\\x0f\\x90!?@\\x86\\xfc\\x00\\x19\\xf2\\x03d\\xc8\\x0f\\x90!?@\\x86\\xfc\\x00\\x19\\xf2\\x03d\\xc8\\x0f\\x90!?@\\x86\\xfc\\x00\\x19\\xf2\\x03d\\xc8\\x0f\\x90!?@\\x86\\xfc\\x00\\x19\\xf2\\x03d\\xc8\\x0f\\x90!?@\\x86\\xfc\\x00\\x19\\xf2\\x03D~\\xff\\xfe\\x1f\\x90$\\xa6\\x92\\x18p\\xab\\xf3\\x00\\x00\\x00\\x00IEND\\xaeB`\\x82'}"
            ]
          },
          "metadata": {},
          "execution_count": 28
        }
      ]
    },
    {
      "cell_type": "markdown",
      "metadata": {
        "id": "2rXNsnTnMLJO"
      },
      "source": [
        "Проверяем загрузку картинки"
      ]
    },
    {
      "cell_type": "code",
      "metadata": {
        "id": "v3y6wbi-MNqs",
        "colab": {
          "base_uri": "https://localhost:8080/"
        },
        "outputId": "98e332b0-9ecb-44be-d4aa-80e475e0d2c1"
      },
      "source": [
        "!ls"
      ],
      "execution_count": null,
      "outputs": [
        {
          "output_type": "stream",
          "name": "stdout",
          "text": [
            "6.png  mnist_dense.h5  sample_data\n"
          ]
        }
      ]
    },
    {
      "cell_type": "markdown",
      "metadata": {
        "id": "F8HQI_X5MUms"
      },
      "source": [
        "Загружаем картинку из файла"
      ]
    },
    {
      "cell_type": "code",
      "metadata": {
        "id": "Zfi4L4iYMTLE"
      },
      "source": [
        "img_path = '6.png'\n",
        "img = image.load_img(img_path, target_size=(28, 28), color_mode = \"grayscale\")"
      ],
      "execution_count": null,
      "outputs": []
    },
    {
      "cell_type": "markdown",
      "metadata": {
        "id": "c2yCw9y1QSL1"
      },
      "source": [
        "Показываем картинку"
      ]
    },
    {
      "cell_type": "code",
      "metadata": {
        "id": "BNW4bWUYP8Rt",
        "colab": {
          "base_uri": "https://localhost:8080/",
          "height": 265
        },
        "outputId": "b70cb0ee-d316-4001-fb5c-af76e64ee116"
      },
      "source": [
        "plt.imshow(img.convert('RGBA'))\n",
        "plt.show()"
      ],
      "execution_count": null,
      "outputs": [
        {
          "output_type": "display_data",
          "data": {
            "image/png": "[encoded data removed]",
            "text/plain": [
              "<Figure size 432x288 with 1 Axes>"
            ]
          },
          "metadata": {
            "needs_background": "light"
          }
        }
      ]
    },
    {
      "cell_type": "markdown",
      "metadata": {
        "id": "2fHqp8KbOsJd"
      },
      "source": [
        "Преобразуем картинку для обработки нейронной сетью"
      ]
    },
    {
      "cell_type": "code",
      "metadata": {
        "id": "0xsuR1vDNihN"
      },
      "source": [
        "# Преобразуем картинку в массив\n",
        "x = image.img_to_array(img)\n",
        "# Меняем форму массива в плоский вектор\n",
        "x = x.reshape(1, 784)\n",
        "# Инвертируем изображение\n",
        "x = 255 - x\n",
        "# Нормализуем изображение\n",
        "x /= 255"
      ],
      "execution_count": null,
      "outputs": []
    },
    {
      "cell_type": "markdown",
      "metadata": {
        "id": "OYpe-m2bNR-8"
      },
      "source": [
        "Запускаем распознавание"
      ]
    },
    {
      "cell_type": "code",
      "metadata": {
        "id": "jTUbtYAPNI60"
      },
      "source": [
        "prediction = model.predict(x)"
      ],
      "execution_count": null,
      "outputs": []
    },
    {
      "cell_type": "markdown",
      "metadata": {
        "id": "gdDM5wzcRRql"
      },
      "source": [
        "Результаты распознавания"
      ]
    },
    {
      "cell_type": "code",
      "metadata": {
        "id": "4qbu45hIMQvk",
        "colab": {
          "base_uri": "https://localhost:8080/"
        },
        "outputId": "c5e8b998-45d4-4263-f232-bf5b05096d4d"
      },
      "source": [
        "prediction"
      ],
      "execution_count": null,
      "outputs": [
        {
          "output_type": "execute_result",
          "data": {
            "text/plain": [
              "array([[3.8463067e-02, 2.3808902e-06, 4.1616008e-02, 1.9809275e-04,\n",
              "        1.2702343e-08, 9.7022921e-02, 4.5903614e-01, 1.2219163e-04,\n",
              "        3.5832626e-01, 5.2129822e-03]], dtype=float32)"
            ]
          },
          "metadata": {},
          "execution_count": 35
        }
      ]
    },
    {
      "cell_type": "code",
      "metadata": {
        "id": "iOwGOz41PNsV",
        "colab": {
          "base_uri": "https://localhost:8080/"
        },
        "outputId": "d2342e1d-b1a2-4ac7-aa67-f3f3eb89b924"
      },
      "source": [
        "print(np.argmax(prediction))"
      ],
      "execution_count": null,
      "outputs": [
        {
          "output_type": "stream",
          "name": "stdout",
          "text": [
            "6\n"
          ]
        }
      ]
    }
  ]
}